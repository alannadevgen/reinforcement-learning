{
  "cells": [
    {
      "cell_type": "code",
      "execution_count": 1,
      "metadata": {
        "id": "f52K92rVZnfT"
      },
      "outputs": [],
      "source": [
        "# imports\n",
        "import pandas as pd\n",
        "import numpy as np\n",
        "import plotnine\n",
        "from plotnine import *"
      ]
    },
    {
      "cell_type": "code",
      "execution_count": 2,
      "metadata": {
        "id": "WZvTErcAZjNF"
      },
      "outputs": [],
      "source": [
        "# generate Shortest Path problem grid\n",
        "def spp_grid(nx: int, ny: int, p:float = 0.0, seed:int = 1234, min_reward:int=0, max_reward:int=10):\n",
        "  np.random.seed(seed=seed)\n",
        "  return pd.DataFrame(\n",
        "    [\n",
        "      [\n",
        "        x+1, \n",
        "        y+1, \n",
        "        np.random.randint(min_reward, max_reward),\n",
        "        False\n",
        "      ]\n",
        "      for x in range(nx)\n",
        "      for y in range(ny)\n",
        "  ], columns = ['x', 'y', 'reward', 'is_stolen'])"
      ]
    },
    {
      "cell_type": "code",
      "execution_count": 39,
      "metadata": {
        "id": "rQlz6rdzZm0F"
      },
      "outputs": [],
      "source": [
        "# generate line of houses\n",
        "nx = 10\n",
        "ny = 1\n",
        "df = spp_grid(nx=nx, ny=ny, p=0.0, seed=13)"
      ]
    },
    {
      "cell_type": "code",
      "execution_count": 40,
      "metadata": {},
      "outputs": [
        {
          "data": {
            "text/html": [
              "<div>\n",
              "<style scoped>\n",
              "    .dataframe tbody tr th:only-of-type {\n",
              "        vertical-align: middle;\n",
              "    }\n",
              "\n",
              "    .dataframe tbody tr th {\n",
              "        vertical-align: top;\n",
              "    }\n",
              "\n",
              "    .dataframe thead th {\n",
              "        text-align: right;\n",
              "    }\n",
              "</style>\n",
              "<table border=\"1\" class=\"dataframe\">\n",
              "  <thead>\n",
              "    <tr style=\"text-align: right;\">\n",
              "      <th></th>\n",
              "      <th>x</th>\n",
              "      <th>y</th>\n",
              "      <th>reward</th>\n",
              "      <th>is_stolen</th>\n",
              "    </tr>\n",
              "  </thead>\n",
              "  <tbody>\n",
              "    <tr>\n",
              "      <th>0</th>\n",
              "      <td>1</td>\n",
              "      <td>1</td>\n",
              "      <td>2</td>\n",
              "      <td>False</td>\n",
              "    </tr>\n",
              "    <tr>\n",
              "      <th>1</th>\n",
              "      <td>2</td>\n",
              "      <td>1</td>\n",
              "      <td>0</td>\n",
              "      <td>False</td>\n",
              "    </tr>\n",
              "    <tr>\n",
              "      <th>2</th>\n",
              "      <td>3</td>\n",
              "      <td>1</td>\n",
              "      <td>0</td>\n",
              "      <td>False</td>\n",
              "    </tr>\n",
              "    <tr>\n",
              "      <th>3</th>\n",
              "      <td>4</td>\n",
              "      <td>1</td>\n",
              "      <td>6</td>\n",
              "      <td>False</td>\n",
              "    </tr>\n",
              "    <tr>\n",
              "      <th>4</th>\n",
              "      <td>5</td>\n",
              "      <td>1</td>\n",
              "      <td>2</td>\n",
              "      <td>False</td>\n",
              "    </tr>\n",
              "    <tr>\n",
              "      <th>5</th>\n",
              "      <td>6</td>\n",
              "      <td>1</td>\n",
              "      <td>4</td>\n",
              "      <td>False</td>\n",
              "    </tr>\n",
              "    <tr>\n",
              "      <th>6</th>\n",
              "      <td>7</td>\n",
              "      <td>1</td>\n",
              "      <td>9</td>\n",
              "      <td>False</td>\n",
              "    </tr>\n",
              "    <tr>\n",
              "      <th>7</th>\n",
              "      <td>8</td>\n",
              "      <td>1</td>\n",
              "      <td>3</td>\n",
              "      <td>False</td>\n",
              "    </tr>\n",
              "    <tr>\n",
              "      <th>8</th>\n",
              "      <td>9</td>\n",
              "      <td>1</td>\n",
              "      <td>4</td>\n",
              "      <td>False</td>\n",
              "    </tr>\n",
              "    <tr>\n",
              "      <th>9</th>\n",
              "      <td>10</td>\n",
              "      <td>1</td>\n",
              "      <td>2</td>\n",
              "      <td>False</td>\n",
              "    </tr>\n",
              "  </tbody>\n",
              "</table>\n",
              "</div>"
            ],
            "text/plain": [
              "    x  y  reward  is_stolen\n",
              "0   1  1       2      False\n",
              "1   2  1       0      False\n",
              "2   3  1       0      False\n",
              "3   4  1       6      False\n",
              "4   5  1       2      False\n",
              "5   6  1       4      False\n",
              "6   7  1       9      False\n",
              "7   8  1       3      False\n",
              "8   9  1       4      False\n",
              "9  10  1       2      False"
            ]
          },
          "execution_count": 40,
          "metadata": {},
          "output_type": "execute_result"
        }
      ],
      "source": [
        "df"
      ]
    },
    {
      "cell_type": "code",
      "execution_count": 41,
      "metadata": {
        "colab": {
          "base_uri": "https://localhost:8080/",
          "height": 630
        },
        "id": "FypNGN3YalUE",
        "outputId": "ea9f464b-aaaa-4459-efe1-52f1e856a5df"
      },
      "outputs": [
        {
          "data": {
            "image/png": "[encoded data removed]",
            "text/plain": [
              "<Figure size 640x64.4156 with 1 Axes>"
            ]
          },
          "metadata": {
            "needs_background": "light"
          },
          "output_type": "display_data"
        },
        {
          "data": {
            "text/plain": [
              "<ggplot: (8788978463669)>"
            ]
          },
          "execution_count": 41,
          "metadata": {},
          "output_type": "execute_result"
        }
      ],
      "source": [
        "# plot it\n",
        "(\n",
        "  ggplot(df) + \n",
        "    geom_tile(aes(x='x', y='y', fill='reward'), color='white', size=2) + \n",
        "    geom_text(aes(x='x', y='y', label='reward'))+\n",
        "    # scale_fill_viridis_c(option=\"mako\", begin=0.2) +\n",
        "    coord_equal() +\n",
        "    theme_minimal() +\n",
        "    labs(title = \"Arsène Lupin plan to rob houses on a 10-houses street\", fill = \"Loot\")\n",
        ")"
      ]
    },
    {
      "cell_type": "code",
      "execution_count": 44,
      "metadata": {},
      "outputs": [
        {
          "data": {
            "text/plain": [
              "17"
            ]
          },
          "execution_count": 44,
          "metadata": {},
          "output_type": "execute_result"
        }
      ],
      "source": [
        "def get_max_loot(data):\n",
        "    '''\n",
        "    Computes the maximum loot given a dataframe that represents a street\n",
        "    that Arsène Lupin plans to rob.\n",
        "\n",
        "    Parameters\n",
        "    ----------\n",
        "    data: pd.DataFrame\n",
        "        dataframe representing a street where the columns are x, y and reward for each house\n",
        "    '''\n",
        "    # odd and even houses\n",
        "    even_rewards = []\n",
        "    odd_rewards = []\n",
        "    for house_index, house in data.iterrows():\n",
        "        if house_index % 2:\n",
        "            even_rewards.append(house['reward'])\n",
        "        else:\n",
        "            odd_rewards.append(house['reward'])\n",
        "    max_even = sum(even_rewards)\n",
        "    max_odd = sum(odd_rewards)\n",
        "    max_odd_even = max(max_even, max_odd)\n",
        "    \n",
        "    # slidding window\n",
        "    windows = []\n",
        "    for window in pd.Series(data.index).rolling(window=3, min_periods=3, center=True):\n",
        "        if len(window) >= 3:\n",
        "            windows.append(window.to_list())\n",
        "    # print(windows)\n",
        "    slidding_window = []\n",
        "    reward_window = [data.loc[windows[i]]['reward'].to_list() for i in range(len(windows))]\n",
        "    # print(reward_window)\n",
        "    for index, reward in enumerate(reward_window):\n",
        "        max_sub_window = max(reward)\n",
        "        # print(\"index\", index, \"sub-index\", reward.index(max_sub_window), \"reward\", max_sub_window)\n",
        "        if index == 0:\n",
        "            last_index = 0\n",
        "            slidding_window.append(max_sub_window)\n",
        "        elif index == last_index + 3:\n",
        "            last_index = index\n",
        "            slidding_window.append(max_sub_window)\n",
        "    \n",
        "    max_slidding_window = max(slidding_window)\n",
        "    return max(max_odd_even, max_slidding_window)\n",
        "    \n",
        "\n",
        "get_max_loot(data=df)\n"
      ]
    },
    {
      "cell_type": "code",
      "execution_count": null,
      "metadata": {},
      "outputs": [],
      "source": [
        "def get_max_loot(data):\n",
        "    '''\n",
        "    Computes the maximum loot given a dataframe that represents a street\n",
        "    that Arsène Lupin plans to rob.\n",
        "\n",
        "    Parameters\n",
        "    ----------\n",
        "    data: pd.DataFrame\n",
        "        dataframe representing a street where the columns are x, y and reward for each house\n",
        "    '''\n",
        "    even_rewards = []\n",
        "    odd_rewards = []\n",
        "    for house_index, house in data.iterrows():\n",
        "        if house_index % 2:\n",
        "            even_rewards.append(house['reward'])\n",
        "        else:\n",
        "            odd_rewards.append(house['reward'])\n",
        "    return even_rewards, odd_rewards\n",
        "\n",
        "get_max_loot(data=df)\n"
      ]
    },
    {
      "cell_type": "code",
      "execution_count": null,
      "metadata": {
        "colab": {
          "base_uri": "https://localhost:8080/",
          "height": 630
        },
        "id": "1Hh5Tvgdpzi6",
        "outputId": "07d620c9-3d53-4693-a089-a5a6e7b281c7"
      },
      "outputs": [],
      "source": [
        "(\n",
        "  ggplot(df) + \n",
        "    geom_tile(aes(x='x', y='y', fill='p_stuck', color='is_terminal'), size=2) + \n",
        "    geom_text(aes(x='x', y='y', label='action'))+\n",
        "    coord_equal() +\n",
        "    theme_seaborn() +\n",
        "    labs(title = \"Shortest path problem, on a 5x5 grid\", color = \"End ?\", fill = \"P(stuck)\")\n",
        ")"
      ]
    }
  ],
  "metadata": {
    "colab": {
      "provenance": []
    },
    "kernelspec": {
      "display_name": "Python 3",
      "name": "python3"
    },
    "language_info": {
      "codemirror_mode": {
        "name": "ipython",
        "version": 3
      },
      "file_extension": ".py",
      "mimetype": "text/x-python",
      "name": "python",
      "nbconvert_exporter": "python",
      "pygments_lexer": "ipython3",
      "version": "3.10.6"
    }
  },
  "nbformat": 4,
  "nbformat_minor": 0
}

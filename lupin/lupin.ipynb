{
  "cells": [
    {
      "cell_type": "code",
      "execution_count": 1,
      "metadata": {
        "id": "f52K92rVZnfT"
      },
      "outputs": [],
      "source": [
        "# imports\n",
        "import pandas as pd\n",
        "import numpy as np\n",
        "import plotnine\n",
        "from plotnine import *"
      ]
    },
    {
      "cell_type": "code",
      "execution_count": 2,
      "metadata": {
        "id": "WZvTErcAZjNF"
      },
      "outputs": [],
      "source": [
        "# generate Shortest Path problem grid\n",
        "def spp_grid(nx: int, ny: int, p:float = 0.0, seed:int = 1234, min_reward:int=0, max_reward:int=10):\n",
        "  np.random.seed(seed=seed)\n",
        "  return pd.DataFrame(\n",
        "    [\n",
        "      [\n",
        "        x+1, \n",
        "        y+1, \n",
        "        np.random.randint(min_reward, max_reward),\n",
        "        False\n",
        "      ]\n",
        "      for x in range(nx)\n",
        "      for y in range(ny)\n",
        "  ], columns = ['x', 'y', 'reward', 'is_stolen'])"
      ]
    },
    {
      "cell_type": "code",
      "execution_count": 3,
      "metadata": {
        "id": "rQlz6rdzZm0F"
      },
      "outputs": [],
      "source": [
        "# generate line of houses\n",
        "nx = 10\n",
        "ny = 1\n",
        "df = spp_grid(nx=nx, ny=ny, p=0.0, seed=16)"
      ]
    },
    {
      "cell_type": "code",
      "execution_count": 4,
      "metadata": {},
      "outputs": [
        {
          "data": {
            "text/html": [
              "<div>\n",
              "<style scoped>\n",
              "    .dataframe tbody tr th:only-of-type {\n",
              "        vertical-align: middle;\n",
              "    }\n",
              "\n",
              "    .dataframe tbody tr th {\n",
              "        vertical-align: top;\n",
              "    }\n",
              "\n",
              "    .dataframe thead th {\n",
              "        text-align: right;\n",
              "    }\n",
              "</style>\n",
              "<table border=\"1\" class=\"dataframe\">\n",
              "  <thead>\n",
              "    <tr style=\"text-align: right;\">\n",
              "      <th></th>\n",
              "      <th>x</th>\n",
              "      <th>y</th>\n",
              "      <th>reward</th>\n",
              "      <th>is_stolen</th>\n",
              "    </tr>\n",
              "  </thead>\n",
              "  <tbody>\n",
              "    <tr>\n",
              "      <th>0</th>\n",
              "      <td>1</td>\n",
              "      <td>1</td>\n",
              "      <td>9</td>\n",
              "      <td>False</td>\n",
              "    </tr>\n",
              "    <tr>\n",
              "      <th>1</th>\n",
              "      <td>2</td>\n",
              "      <td>1</td>\n",
              "      <td>9</td>\n",
              "      <td>False</td>\n",
              "    </tr>\n",
              "    <tr>\n",
              "      <th>2</th>\n",
              "      <td>3</td>\n",
              "      <td>1</td>\n",
              "      <td>5</td>\n",
              "      <td>False</td>\n",
              "    </tr>\n",
              "    <tr>\n",
              "      <th>3</th>\n",
              "      <td>4</td>\n",
              "      <td>1</td>\n",
              "      <td>1</td>\n",
              "      <td>False</td>\n",
              "    </tr>\n",
              "    <tr>\n",
              "      <th>4</th>\n",
              "      <td>5</td>\n",
              "      <td>1</td>\n",
              "      <td>4</td>\n",
              "      <td>False</td>\n",
              "    </tr>\n",
              "    <tr>\n",
              "      <th>5</th>\n",
              "      <td>6</td>\n",
              "      <td>1</td>\n",
              "      <td>4</td>\n",
              "      <td>False</td>\n",
              "    </tr>\n",
              "    <tr>\n",
              "      <th>6</th>\n",
              "      <td>7</td>\n",
              "      <td>1</td>\n",
              "      <td>9</td>\n",
              "      <td>False</td>\n",
              "    </tr>\n",
              "    <tr>\n",
              "      <th>7</th>\n",
              "      <td>8</td>\n",
              "      <td>1</td>\n",
              "      <td>0</td>\n",
              "      <td>False</td>\n",
              "    </tr>\n",
              "    <tr>\n",
              "      <th>8</th>\n",
              "      <td>9</td>\n",
              "      <td>1</td>\n",
              "      <td>0</td>\n",
              "      <td>False</td>\n",
              "    </tr>\n",
              "    <tr>\n",
              "      <th>9</th>\n",
              "      <td>10</td>\n",
              "      <td>1</td>\n",
              "      <td>8</td>\n",
              "      <td>False</td>\n",
              "    </tr>\n",
              "  </tbody>\n",
              "</table>\n",
              "</div>"
            ],
            "text/plain": [
              "    x  y  reward  is_stolen\n",
              "0   1  1       9      False\n",
              "1   2  1       9      False\n",
              "2   3  1       5      False\n",
              "3   4  1       1      False\n",
              "4   5  1       4      False\n",
              "5   6  1       4      False\n",
              "6   7  1       9      False\n",
              "7   8  1       0      False\n",
              "8   9  1       0      False\n",
              "9  10  1       8      False"
            ]
          },
          "execution_count": 4,
          "metadata": {},
          "output_type": "execute_result"
        }
      ],
      "source": [
        "df"
      ]
    },
    {
      "cell_type": "code",
      "execution_count": 5,
      "metadata": {
        "colab": {
          "base_uri": "https://localhost:8080/",
          "height": 630
        },
        "id": "FypNGN3YalUE",
        "outputId": "ea9f464b-aaaa-4459-efe1-52f1e856a5df"
      },
      "outputs": [
        {
          "data": {
            "image/png": "[encoded data removed]",
            "text/plain": [
              "<Figure size 640x64.4156 with 1 Axes>"
            ]
          },
          "metadata": {
            "needs_background": "light"
          },
          "output_type": "display_data"
        },
        {
          "data": {
            "text/plain": [
              "<ggplot: (8769576709898)>"
            ]
          },
          "execution_count": 5,
          "metadata": {},
          "output_type": "execute_result"
        }
      ],
      "source": [
        "# plot it\n",
        "(\n",
        "  ggplot(df) + \n",
        "    geom_tile(aes(x='x', y='y', fill='reward'), color='white', size=2) + \n",
        "    geom_text(aes(x='x', y='y', label='reward'))+\n",
        "    scale_fill_cmap(cmap_name=\"Blues\") +\n",
        "    theme(\n",
        "      panel_grid = element_blank(),\n",
        "      axis_text = element_blank(),\n",
        "      axis_title_x = element_blank(),\n",
        "      axis_text_x = element_blank(),\n",
        "      axis_title_y = element_blank(),\n",
        "      axis_text_y = element_blank(),\n",
        "      axis_line = element_blank(),\n",
        "      axis_ticks_major_x=element_blank(),\n",
        "      axis_ticks_minor_x=element_blank(),\n",
        "      axis_ticks_major_y=element_blank(),\n",
        "      axis_ticks_minor_y=element_blank(),\n",
        "    ) +\n",
        "    coord_equal() +\n",
        "    labs(\n",
        "      title = \"Arsène Lupin plan to rob houses on a 10-houses street\",\n",
        "      fill = \"Loot\",\n",
        "      x =  \"\",\n",
        "      y =  \"\"\n",
        "    ) +\n",
        "    theme_minimal()\n",
        ")"
      ]
    },
    {
      "cell_type": "code",
      "execution_count": 6,
      "metadata": {},
      "outputs": [],
      "source": [
        "def robbery(data):\n",
        "    prev, total = 0, 0\n",
        "    for house, amount in enumerate(data['reward']):\n",
        "        if prev + amount > total:\n",
        "            data.loc[house, 'is_stolen'] = True\n",
        "        prev, total = total, max(total, prev + amount)\n",
        "    return total"
      ]
    },
    {
      "cell_type": "code",
      "execution_count": 11,
      "metadata": {},
      "outputs": [
        {
          "data": {
            "text/plain": [
              "35"
            ]
          },
          "execution_count": 11,
          "metadata": {},
          "output_type": "execute_result"
        }
      ],
      "source": [
        "max_robbery = robbery(data=df)\n",
        "max_robbery"
      ]
    },
    {
      "cell_type": "code",
      "execution_count": 14,
      "metadata": {},
      "outputs": [
        {
          "data": {
            "image/png": "[encoded data removed]",
            "text/plain": [
              "<Figure size 640x64.4156 with 1 Axes>"
            ]
          },
          "metadata": {
            "needs_background": "light"
          },
          "output_type": "display_data"
        },
        {
          "data": {
            "text/plain": [
              "<ggplot: (8769574418784)>"
            ]
          },
          "execution_count": 14,
          "metadata": {},
          "output_type": "execute_result"
        }
      ],
      "source": [
        "(\n",
        "  ggplot(df) + \n",
        "    geom_tile(aes(x='x', y='y', fill='is_stolen'), color=\"white\", size=2) + \n",
        "    geom_text(aes(x='x', y='y', label='reward', color='reward'), size=15)+\n",
        "    scale_color_cmap(cmap_name=\"Blues\") +\n",
        "    scale_fill_brewer(type='qual', palette=4) +\n",
        "    # scale_fill_brewer(type='qual', palette=6) +\n",
        "    coord_equal() +\n",
        "    labs(\n",
        "      title = \"Arsène Lupin plan to rob houses on a 10-houses street\",\n",
        "      color = \"Reward\",\n",
        "      fill = \"House stolen\",\n",
        "      x =  \"\",\n",
        "      y =  \"\"\n",
        "    ) +\n",
        "    theme_minimal()\n",
        ")"
      ]
    }
  ],
  "metadata": {
    "colab": {
      "provenance": []
    },
    "kernelspec": {
      "display_name": "Python 3",
      "name": "python3"
    },
    "language_info": {
      "codemirror_mode": {
        "name": "ipython",
        "version": 3
      },
      "file_extension": ".py",
      "mimetype": "text/x-python",
      "name": "python",
      "nbconvert_exporter": "python",
      "pygments_lexer": "ipython3",
      "version": "3.10.6"
    }
  },
  "nbformat": 4,
  "nbformat_minor": 0
}
